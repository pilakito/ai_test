{
 "cells": [
  {
   "cell_type": "code",
   "execution_count": null,
   "id": "dd671c3f-3638-43a1-a497-07aaa92cd2a8",
   "metadata": {},
   "outputs": [],
   "source": [
    "import ipywidgets as widgets\n",
    "from IPython.display import display, clear_output\n",
    "from train import run_training\n",
    "\n",
    "# Widget bileşenleri\n",
    "dataset_dropdown = widgets.Dropdown(\n",
    "    options=['CIFAR10'],\n",
    "    description='Dataset:',\n",
    ")\n",
    "\n",
    "batchsize_slider = widgets.IntSlider(\n",
    "    value=64,\n",
    "    min=16,\n",
    "    max=256,\n",
    "    step=16,\n",
    "    description='Batch size:',\n",
    ")\n",
    "\n",
    "epoch_slider = widgets.IntSlider(\n",
    "    value=5,\n",
    "    min=1,\n",
    "    max=20,\n",
    "    step=1,\n",
    "    description='Epochs:',\n",
    ")\n",
    "\n",
    "start_button = widgets.Button(description=\"Eğitimi Başlat\", button_style='success')\n",
    "output = widgets.Output()\n",
    "\n",
    "def on_start_button_clicked(b):\n",
    "    clear_output()\n",
    "    display(dataset_dropdown, batchsize_slider, epoch_slider, start_button, output)\n",
    "    with output:\n",
    "        run_training(\n",
    "            dataset_name=dataset_dropdown.value,\n",
    "            batch_size=batchsize_slider.value,\n",
    "            epochs=epoch_slider.value\n",
    "        )\n",
    "\n",
    "start_button.on_click(on_start_button_clicked)\n",
    "\n",
    "# Görsel arayüz\n",
    "display(dataset_dropdown, batchsize_slider, epoch_slider, start_button, output)"
   ]
  }
 ],
 "metadata": {
  "kernelspec": {
   "display_name": "Python 3 (ipykernel)",
   "language": "python",
   "name": "python3"
  },
  "language_info": {
   "codemirror_mode": {
    "name": "ipython",
    "version": 3
   },
   "file_extension": ".py",
   "mimetype": "text/x-python",
   "name": "python",
   "nbconvert_exporter": "python",
   "pygments_lexer": "ipython3",
   "version": "3.10.18"
  }
 },
 "nbformat": 4,
 "nbformat_minor": 5
}
